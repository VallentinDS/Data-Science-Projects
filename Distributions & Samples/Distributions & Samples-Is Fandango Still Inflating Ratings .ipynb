{
 "cells": [
  {
   "cell_type": "markdown",
   "metadata": {
    "collapsed": true
   },
   "source": [
    "# Fandango and their inflating ratings\n",
    "\n",
    "It is a known case that [Fandango](https://www.fandango.com/), an online movie rating aggregator, was inflating the ratings of their movies. Walt Hickley posted an [article](https://fivethirtyeight.com/features/fandango-movies-ratings/) about this.\n",
    "\n",
    "The goal of this project is to analayze more recent ratings data to determine if there was a chjange in their system."
   ]
  },
  {
   "cell_type": "markdown",
   "metadata": {},
   "source": [
    "# Understanding the data"
   ]
  },
  {
   "cell_type": "code",
   "execution_count": 1,
   "metadata": {},
   "outputs": [],
   "source": [
    "# installing pandas and requests at the same time\n",
    "# !pip install pandas requests"
   ]
  },
  {
   "cell_type": "code",
   "execution_count": 2,
   "metadata": {},
   "outputs": [],
   "source": [
    "# importing the data\n",
    "import pandas as pd\n",
    "import matplotlib.pyplot as plt\n",
    "import numpy as np\n",
    "# import tabulate\n",
    "import seaborn as sns\n",
    "import requests\n",
    "from IPython.display import display\n",
    "%matplotlib inline\n",
    "\n",
    "data_1 = requests.get(\"https://raw.githubusercontent.com/fivethirtyeight/data/master/fandango/fandango_score_comparison.csv\")\n",
    "with open(\"fandango_score_comparison.csv\", \"w+\") as fandango_score_comparison:\n",
    "    fandango_score_comparison.write(data_1.text)\n",
    "    \n",
    "data_2 = requests.get(\"https://raw.githubusercontent.com/mircealex/Movie_ratings_2016_17/master/movie_ratings_16_17.csv\")\n",
    "with open (\"movie_ratings_16_17.csv\", \"w+\") as movie_ratings_16_17:\n",
    "    movie_ratings_16_17.write(data_2.text)\n",
    "\n",
    "fandango_score_comparison = pd.read_csv(\"fandango_score_comparison.csv\") \n",
    "fandango_movie_ratings = pd.read_csv(\"movie_ratings_16_17.csv\")"
   ]
  },
  {
   "cell_type": "code",
   "execution_count": 3,
   "metadata": {},
   "outputs": [
    {
     "data": {
      "text/html": [
       "<div><div id=caa2a971-91b9-4cde-b201-31348931606e style=\"display:none; background-color:#9D6CFF; color:white; width:200px; height:30px; padding-left:5px; border-radius:4px; flex-direction:row; justify-content:space-around; align-items:center;\" onmouseover=\"this.style.backgroundColor='#BA9BF8'\" onmouseout=\"this.style.backgroundColor='#9D6CFF'\" onclick=\"window.commands?.execute('create-mitosheet-from-dataframe-output');\">See Full Dataframe in Mito</div> <script> if (window.commands.hasCommand('create-mitosheet-from-dataframe-output')) document.getElementById('caa2a971-91b9-4cde-b201-31348931606e').style.display = 'flex' </script> <table border=\"1\" class=\"dataframe\">\n",
       "  <thead>\n",
       "    <tr style=\"text-align: right;\">\n",
       "      <th></th>\n",
       "      <th>FILM</th>\n",
       "      <th>RottenTomatoes</th>\n",
       "      <th>RottenTomatoes_User</th>\n",
       "      <th>Metacritic</th>\n",
       "      <th>Metacritic_User</th>\n",
       "      <th>IMDB</th>\n",
       "      <th>Fandango_Stars</th>\n",
       "      <th>Fandango_Ratingvalue</th>\n",
       "      <th>RT_norm</th>\n",
       "      <th>RT_user_norm</th>\n",
       "      <th>...</th>\n",
       "      <th>IMDB_norm</th>\n",
       "      <th>RT_norm_round</th>\n",
       "      <th>RT_user_norm_round</th>\n",
       "      <th>Metacritic_norm_round</th>\n",
       "      <th>Metacritic_user_norm_round</th>\n",
       "      <th>IMDB_norm_round</th>\n",
       "      <th>Metacritic_user_vote_count</th>\n",
       "      <th>IMDB_user_vote_count</th>\n",
       "      <th>Fandango_votes</th>\n",
       "      <th>Fandango_Difference</th>\n",
       "    </tr>\n",
       "  </thead>\n",
       "  <tbody>\n",
       "    <tr>\n",
       "      <th>0</th>\n",
       "      <td>Avengers: Age of Ultron (2015)</td>\n",
       "      <td>74</td>\n",
       "      <td>86</td>\n",
       "      <td>66</td>\n",
       "      <td>7.1</td>\n",
       "      <td>7.8</td>\n",
       "      <td>5.0</td>\n",
       "      <td>4.5</td>\n",
       "      <td>3.70</td>\n",
       "      <td>4.3</td>\n",
       "      <td>...</td>\n",
       "      <td>3.90</td>\n",
       "      <td>3.5</td>\n",
       "      <td>4.5</td>\n",
       "      <td>3.5</td>\n",
       "      <td>3.5</td>\n",
       "      <td>4.0</td>\n",
       "      <td>1330</td>\n",
       "      <td>271107</td>\n",
       "      <td>14846</td>\n",
       "      <td>0.5</td>\n",
       "    </tr>\n",
       "    <tr>\n",
       "      <th>1</th>\n",
       "      <td>Cinderella (2015)</td>\n",
       "      <td>85</td>\n",
       "      <td>80</td>\n",
       "      <td>67</td>\n",
       "      <td>7.5</td>\n",
       "      <td>7.1</td>\n",
       "      <td>5.0</td>\n",
       "      <td>4.5</td>\n",
       "      <td>4.25</td>\n",
       "      <td>4.0</td>\n",
       "      <td>...</td>\n",
       "      <td>3.55</td>\n",
       "      <td>4.5</td>\n",
       "      <td>4.0</td>\n",
       "      <td>3.5</td>\n",
       "      <td>4.0</td>\n",
       "      <td>3.5</td>\n",
       "      <td>249</td>\n",
       "      <td>65709</td>\n",
       "      <td>12640</td>\n",
       "      <td>0.5</td>\n",
       "    </tr>\n",
       "    <tr>\n",
       "      <th>2</th>\n",
       "      <td>Ant-Man (2015)</td>\n",
       "      <td>80</td>\n",
       "      <td>90</td>\n",
       "      <td>64</td>\n",
       "      <td>8.1</td>\n",
       "      <td>7.8</td>\n",
       "      <td>5.0</td>\n",
       "      <td>4.5</td>\n",
       "      <td>4.00</td>\n",
       "      <td>4.5</td>\n",
       "      <td>...</td>\n",
       "      <td>3.90</td>\n",
       "      <td>4.0</td>\n",
       "      <td>4.5</td>\n",
       "      <td>3.0</td>\n",
       "      <td>4.0</td>\n",
       "      <td>4.0</td>\n",
       "      <td>627</td>\n",
       "      <td>103660</td>\n",
       "      <td>12055</td>\n",
       "      <td>0.5</td>\n",
       "    </tr>\n",
       "    <tr>\n",
       "      <th>3</th>\n",
       "      <td>Do You Believe? (2015)</td>\n",
       "      <td>18</td>\n",
       "      <td>84</td>\n",
       "      <td>22</td>\n",
       "      <td>4.7</td>\n",
       "      <td>5.4</td>\n",
       "      <td>5.0</td>\n",
       "      <td>4.5</td>\n",
       "      <td>0.90</td>\n",
       "      <td>4.2</td>\n",
       "      <td>...</td>\n",
       "      <td>2.70</td>\n",
       "      <td>1.0</td>\n",
       "      <td>4.0</td>\n",
       "      <td>1.0</td>\n",
       "      <td>2.5</td>\n",
       "      <td>2.5</td>\n",
       "      <td>31</td>\n",
       "      <td>3136</td>\n",
       "      <td>1793</td>\n",
       "      <td>0.5</td>\n",
       "    </tr>\n",
       "    <tr>\n",
       "      <th>4</th>\n",
       "      <td>Hot Tub Time Machine 2 (2015)</td>\n",
       "      <td>14</td>\n",
       "      <td>28</td>\n",
       "      <td>29</td>\n",
       "      <td>3.4</td>\n",
       "      <td>5.1</td>\n",
       "      <td>3.5</td>\n",
       "      <td>3.0</td>\n",
       "      <td>0.70</td>\n",
       "      <td>1.4</td>\n",
       "      <td>...</td>\n",
       "      <td>2.55</td>\n",
       "      <td>0.5</td>\n",
       "      <td>1.5</td>\n",
       "      <td>1.5</td>\n",
       "      <td>1.5</td>\n",
       "      <td>2.5</td>\n",
       "      <td>88</td>\n",
       "      <td>19560</td>\n",
       "      <td>1021</td>\n",
       "      <td>0.5</td>\n",
       "    </tr>\n",
       "  </tbody>\n",
       "</table></div>"
      ],
      "text/plain": [
       "                             FILM  RottenTomatoes  RottenTomatoes_User  \\\n",
       "0  Avengers: Age of Ultron (2015)              74                   86   \n",
       "1               Cinderella (2015)              85                   80   \n",
       "2                  Ant-Man (2015)              80                   90   \n",
       "3          Do You Believe? (2015)              18                   84   \n",
       "4   Hot Tub Time Machine 2 (2015)              14                   28   \n",
       "\n",
       "   Metacritic  Metacritic_User  IMDB  Fandango_Stars  Fandango_Ratingvalue  \\\n",
       "0          66              7.1   7.8             5.0                   4.5   \n",
       "1          67              7.5   7.1             5.0                   4.5   \n",
       "2          64              8.1   7.8             5.0                   4.5   \n",
       "3          22              4.7   5.4             5.0                   4.5   \n",
       "4          29              3.4   5.1             3.5                   3.0   \n",
       "\n",
       "   RT_norm  RT_user_norm  ...  IMDB_norm  RT_norm_round  RT_user_norm_round  \\\n",
       "0     3.70           4.3  ...       3.90            3.5                 4.5   \n",
       "1     4.25           4.0  ...       3.55            4.5                 4.0   \n",
       "2     4.00           4.5  ...       3.90            4.0                 4.5   \n",
       "3     0.90           4.2  ...       2.70            1.0                 4.0   \n",
       "4     0.70           1.4  ...       2.55            0.5                 1.5   \n",
       "\n",
       "   Metacritic_norm_round  Metacritic_user_norm_round  IMDB_norm_round  \\\n",
       "0                    3.5                         3.5              4.0   \n",
       "1                    3.5                         4.0              3.5   \n",
       "2                    3.0                         4.0              4.0   \n",
       "3                    1.0                         2.5              2.5   \n",
       "4                    1.5                         1.5              2.5   \n",
       "\n",
       "   Metacritic_user_vote_count  IMDB_user_vote_count  Fandango_votes  \\\n",
       "0                        1330                271107           14846   \n",
       "1                         249                 65709           12640   \n",
       "2                         627                103660           12055   \n",
       "3                          31                  3136            1793   \n",
       "4                          88                 19560            1021   \n",
       "\n",
       "   Fandango_Difference  \n",
       "0                  0.5  \n",
       "1                  0.5  \n",
       "2                  0.5  \n",
       "3                  0.5  \n",
       "4                  0.5  \n",
       "\n",
       "[5 rows x 22 columns]"
      ]
     },
     "execution_count": 3,
     "metadata": {},
     "output_type": "execute_result"
    }
   ],
   "source": [
    "fandango_score_comparison.head()"
   ]
  },
  {
   "cell_type": "code",
   "execution_count": 4,
   "metadata": {},
   "outputs": [
    {
     "data": {
      "text/html": [
       "<div><div id=4db7ff6c-f2cd-4071-8800-16dd81b0aee0 style=\"display:none; background-color:#9D6CFF; color:white; width:200px; height:30px; padding-left:5px; border-radius:4px; flex-direction:row; justify-content:space-around; align-items:center;\" onmouseover=\"this.style.backgroundColor='#BA9BF8'\" onmouseout=\"this.style.backgroundColor='#9D6CFF'\" onclick=\"window.commands?.execute('create-mitosheet-from-dataframe-output');\">See Full Dataframe in Mito</div> <script> if (window.commands.hasCommand('create-mitosheet-from-dataframe-output')) document.getElementById('4db7ff6c-f2cd-4071-8800-16dd81b0aee0').style.display = 'flex' </script> <table border=\"1\" class=\"dataframe\">\n",
       "  <thead>\n",
       "    <tr style=\"text-align: right;\">\n",
       "      <th></th>\n",
       "      <th>movie</th>\n",
       "      <th>year</th>\n",
       "      <th>metascore</th>\n",
       "      <th>imdb</th>\n",
       "      <th>tmeter</th>\n",
       "      <th>audience</th>\n",
       "      <th>fandango</th>\n",
       "      <th>n_metascore</th>\n",
       "      <th>n_imdb</th>\n",
       "      <th>n_tmeter</th>\n",
       "      <th>n_audience</th>\n",
       "      <th>nr_metascore</th>\n",
       "      <th>nr_imdb</th>\n",
       "      <th>nr_tmeter</th>\n",
       "      <th>nr_audience</th>\n",
       "    </tr>\n",
       "  </thead>\n",
       "  <tbody>\n",
       "    <tr>\n",
       "      <th>0</th>\n",
       "      <td>10 Cloverfield Lane</td>\n",
       "      <td>2016</td>\n",
       "      <td>76</td>\n",
       "      <td>7.2</td>\n",
       "      <td>90</td>\n",
       "      <td>79</td>\n",
       "      <td>3.5</td>\n",
       "      <td>3.80</td>\n",
       "      <td>3.60</td>\n",
       "      <td>4.50</td>\n",
       "      <td>3.95</td>\n",
       "      <td>4.0</td>\n",
       "      <td>3.5</td>\n",
       "      <td>4.5</td>\n",
       "      <td>4.0</td>\n",
       "    </tr>\n",
       "    <tr>\n",
       "      <th>1</th>\n",
       "      <td>13 Hours</td>\n",
       "      <td>2016</td>\n",
       "      <td>48</td>\n",
       "      <td>7.3</td>\n",
       "      <td>50</td>\n",
       "      <td>83</td>\n",
       "      <td>4.5</td>\n",
       "      <td>2.40</td>\n",
       "      <td>3.65</td>\n",
       "      <td>2.50</td>\n",
       "      <td>4.15</td>\n",
       "      <td>2.5</td>\n",
       "      <td>3.5</td>\n",
       "      <td>2.5</td>\n",
       "      <td>4.0</td>\n",
       "    </tr>\n",
       "    <tr>\n",
       "      <th>2</th>\n",
       "      <td>A Cure for Wellness</td>\n",
       "      <td>2016</td>\n",
       "      <td>47</td>\n",
       "      <td>6.6</td>\n",
       "      <td>40</td>\n",
       "      <td>47</td>\n",
       "      <td>3.0</td>\n",
       "      <td>2.35</td>\n",
       "      <td>3.30</td>\n",
       "      <td>2.00</td>\n",
       "      <td>2.35</td>\n",
       "      <td>2.5</td>\n",
       "      <td>3.5</td>\n",
       "      <td>2.0</td>\n",
       "      <td>2.5</td>\n",
       "    </tr>\n",
       "    <tr>\n",
       "      <th>3</th>\n",
       "      <td>A Dog's Purpose</td>\n",
       "      <td>2017</td>\n",
       "      <td>43</td>\n",
       "      <td>5.2</td>\n",
       "      <td>33</td>\n",
       "      <td>76</td>\n",
       "      <td>4.5</td>\n",
       "      <td>2.15</td>\n",
       "      <td>2.60</td>\n",
       "      <td>1.65</td>\n",
       "      <td>3.80</td>\n",
       "      <td>2.0</td>\n",
       "      <td>2.5</td>\n",
       "      <td>1.5</td>\n",
       "      <td>4.0</td>\n",
       "    </tr>\n",
       "    <tr>\n",
       "      <th>4</th>\n",
       "      <td>A Hologram for the King</td>\n",
       "      <td>2016</td>\n",
       "      <td>58</td>\n",
       "      <td>6.1</td>\n",
       "      <td>70</td>\n",
       "      <td>57</td>\n",
       "      <td>3.0</td>\n",
       "      <td>2.90</td>\n",
       "      <td>3.05</td>\n",
       "      <td>3.50</td>\n",
       "      <td>2.85</td>\n",
       "      <td>3.0</td>\n",
       "      <td>3.0</td>\n",
       "      <td>3.5</td>\n",
       "      <td>3.0</td>\n",
       "    </tr>\n",
       "  </tbody>\n",
       "</table></div>"
      ],
      "text/plain": [
       "                     movie  year  metascore  imdb  tmeter  audience  fandango  \\\n",
       "0      10 Cloverfield Lane  2016         76   7.2      90        79       3.5   \n",
       "1                 13 Hours  2016         48   7.3      50        83       4.5   \n",
       "2      A Cure for Wellness  2016         47   6.6      40        47       3.0   \n",
       "3          A Dog's Purpose  2017         43   5.2      33        76       4.5   \n",
       "4  A Hologram for the King  2016         58   6.1      70        57       3.0   \n",
       "\n",
       "   n_metascore  n_imdb  n_tmeter  n_audience  nr_metascore  nr_imdb  \\\n",
       "0         3.80    3.60      4.50        3.95           4.0      3.5   \n",
       "1         2.40    3.65      2.50        4.15           2.5      3.5   \n",
       "2         2.35    3.30      2.00        2.35           2.5      3.5   \n",
       "3         2.15    2.60      1.65        3.80           2.0      2.5   \n",
       "4         2.90    3.05      3.50        2.85           3.0      3.0   \n",
       "\n",
       "   nr_tmeter  nr_audience  \n",
       "0        4.5          4.0  \n",
       "1        2.5          4.0  \n",
       "2        2.0          2.5  \n",
       "3        1.5          4.0  \n",
       "4        3.5          3.0  "
      ]
     },
     "execution_count": 4,
     "metadata": {},
     "output_type": "execute_result"
    }
   ],
   "source": [
    "fandango_movie_ratings.head()"
   ]
  },
  {
   "cell_type": "code",
   "execution_count": 5,
   "metadata": {},
   "outputs": [],
   "source": [
    "# isolating the column data related only to Fandango\n",
    "# Setting copy to avoid the erroe SettingWithCopyWarning\n",
    "fandango_previous = fandango_score_comparison[['FILM', 'Fandango_Stars', 'Fandango_Ratingvalue', 'Fandango_votes', 'Fandango_Difference']].copy()\n",
    "fandango_after = fandango_movie_ratings[['movie', 'year', 'fandango']].copy()"
   ]
  },
  {
   "cell_type": "code",
   "execution_count": 6,
   "metadata": {},
   "outputs": [
    {
     "data": {
      "text/html": [
       "<div><div id=66d913ec-fbb2-4566-88d7-f010e3aac652 style=\"display:none; background-color:#9D6CFF; color:white; width:200px; height:30px; padding-left:5px; border-radius:4px; flex-direction:row; justify-content:space-around; align-items:center;\" onmouseover=\"this.style.backgroundColor='#BA9BF8'\" onmouseout=\"this.style.backgroundColor='#9D6CFF'\" onclick=\"window.commands?.execute('create-mitosheet-from-dataframe-output');\">See Full Dataframe in Mito</div> <script> if (window.commands.hasCommand('create-mitosheet-from-dataframe-output')) document.getElementById('66d913ec-fbb2-4566-88d7-f010e3aac652').style.display = 'flex' </script> <table border=\"1\" class=\"dataframe\">\n",
       "  <thead>\n",
       "    <tr style=\"text-align: right;\">\n",
       "      <th></th>\n",
       "      <th>FILM</th>\n",
       "      <th>Fandango_Stars</th>\n",
       "      <th>Fandango_Ratingvalue</th>\n",
       "      <th>Fandango_votes</th>\n",
       "      <th>Fandango_Difference</th>\n",
       "    </tr>\n",
       "  </thead>\n",
       "  <tbody>\n",
       "    <tr>\n",
       "      <th>0</th>\n",
       "      <td>Avengers: Age of Ultron (2015)</td>\n",
       "      <td>5.0</td>\n",
       "      <td>4.5</td>\n",
       "      <td>14846</td>\n",
       "      <td>0.5</td>\n",
       "    </tr>\n",
       "    <tr>\n",
       "      <th>1</th>\n",
       "      <td>Cinderella (2015)</td>\n",
       "      <td>5.0</td>\n",
       "      <td>4.5</td>\n",
       "      <td>12640</td>\n",
       "      <td>0.5</td>\n",
       "    </tr>\n",
       "    <tr>\n",
       "      <th>2</th>\n",
       "      <td>Ant-Man (2015)</td>\n",
       "      <td>5.0</td>\n",
       "      <td>4.5</td>\n",
       "      <td>12055</td>\n",
       "      <td>0.5</td>\n",
       "    </tr>\n",
       "    <tr>\n",
       "      <th>3</th>\n",
       "      <td>Do You Believe? (2015)</td>\n",
       "      <td>5.0</td>\n",
       "      <td>4.5</td>\n",
       "      <td>1793</td>\n",
       "      <td>0.5</td>\n",
       "    </tr>\n",
       "    <tr>\n",
       "      <th>4</th>\n",
       "      <td>Hot Tub Time Machine 2 (2015)</td>\n",
       "      <td>3.5</td>\n",
       "      <td>3.0</td>\n",
       "      <td>1021</td>\n",
       "      <td>0.5</td>\n",
       "    </tr>\n",
       "  </tbody>\n",
       "</table></div>"
      ],
      "text/plain": [
       "                             FILM  Fandango_Stars  Fandango_Ratingvalue  \\\n",
       "0  Avengers: Age of Ultron (2015)             5.0                   4.5   \n",
       "1               Cinderella (2015)             5.0                   4.5   \n",
       "2                  Ant-Man (2015)             5.0                   4.5   \n",
       "3          Do You Believe? (2015)             5.0                   4.5   \n",
       "4   Hot Tub Time Machine 2 (2015)             3.5                   3.0   \n",
       "\n",
       "   Fandango_votes  Fandango_Difference  \n",
       "0           14846                  0.5  \n",
       "1           12640                  0.5  \n",
       "2           12055                  0.5  \n",
       "3            1793                  0.5  \n",
       "4            1021                  0.5  "
      ]
     },
     "execution_count": 6,
     "metadata": {},
     "output_type": "execute_result"
    }
   ],
   "source": [
    "fandango_previous.head()"
   ]
  },
  {
   "cell_type": "code",
   "execution_count": 7,
   "metadata": {},
   "outputs": [
    {
     "name": "stdout",
     "output_type": "stream",
     "text": [
      "<class 'pandas.core.frame.DataFrame'>\n",
      "RangeIndex: 146 entries, 0 to 145\n",
      "Data columns (total 5 columns):\n",
      " #   Column                Non-Null Count  Dtype  \n",
      "---  ------                --------------  -----  \n",
      " 0   FILM                  146 non-null    object \n",
      " 1   Fandango_Stars        146 non-null    float64\n",
      " 2   Fandango_Ratingvalue  146 non-null    float64\n",
      " 3   Fandango_votes        146 non-null    int64  \n",
      " 4   Fandango_Difference   146 non-null    float64\n",
      "dtypes: float64(3), int64(1), object(1)\n",
      "memory usage: 5.8+ KB\n"
     ]
    }
   ],
   "source": [
    "fandango_previous.info()"
   ]
  },
  {
   "cell_type": "code",
   "execution_count": 8,
   "metadata": {},
   "outputs": [
    {
     "data": {
      "text/html": [
       "<div><div id=c8f92804-6780-46e4-89e6-098a4ced7064 style=\"display:none; background-color:#9D6CFF; color:white; width:200px; height:30px; padding-left:5px; border-radius:4px; flex-direction:row; justify-content:space-around; align-items:center;\" onmouseover=\"this.style.backgroundColor='#BA9BF8'\" onmouseout=\"this.style.backgroundColor='#9D6CFF'\" onclick=\"window.commands?.execute('create-mitosheet-from-dataframe-output');\">See Full Dataframe in Mito</div> <script> if (window.commands.hasCommand('create-mitosheet-from-dataframe-output')) document.getElementById('c8f92804-6780-46e4-89e6-098a4ced7064').style.display = 'flex' </script> <table border=\"1\" class=\"dataframe\">\n",
       "  <thead>\n",
       "    <tr style=\"text-align: right;\">\n",
       "      <th></th>\n",
       "      <th>movie</th>\n",
       "      <th>year</th>\n",
       "      <th>fandango</th>\n",
       "    </tr>\n",
       "  </thead>\n",
       "  <tbody>\n",
       "    <tr>\n",
       "      <th>0</th>\n",
       "      <td>10 Cloverfield Lane</td>\n",
       "      <td>2016</td>\n",
       "      <td>3.5</td>\n",
       "    </tr>\n",
       "    <tr>\n",
       "      <th>1</th>\n",
       "      <td>13 Hours</td>\n",
       "      <td>2016</td>\n",
       "      <td>4.5</td>\n",
       "    </tr>\n",
       "    <tr>\n",
       "      <th>2</th>\n",
       "      <td>A Cure for Wellness</td>\n",
       "      <td>2016</td>\n",
       "      <td>3.0</td>\n",
       "    </tr>\n",
       "    <tr>\n",
       "      <th>3</th>\n",
       "      <td>A Dog's Purpose</td>\n",
       "      <td>2017</td>\n",
       "      <td>4.5</td>\n",
       "    </tr>\n",
       "    <tr>\n",
       "      <th>4</th>\n",
       "      <td>A Hologram for the King</td>\n",
       "      <td>2016</td>\n",
       "      <td>3.0</td>\n",
       "    </tr>\n",
       "  </tbody>\n",
       "</table></div>"
      ],
      "text/plain": [
       "                     movie  year  fandango\n",
       "0      10 Cloverfield Lane  2016       3.5\n",
       "1                 13 Hours  2016       4.5\n",
       "2      A Cure for Wellness  2016       3.0\n",
       "3          A Dog's Purpose  2017       4.5\n",
       "4  A Hologram for the King  2016       3.0"
      ]
     },
     "execution_count": 8,
     "metadata": {},
     "output_type": "execute_result"
    }
   ],
   "source": [
    "fandango_after.head()"
   ]
  },
  {
   "cell_type": "code",
   "execution_count": 9,
   "metadata": {},
   "outputs": [
    {
     "name": "stdout",
     "output_type": "stream",
     "text": [
      "<class 'pandas.core.frame.DataFrame'>\n",
      "RangeIndex: 214 entries, 0 to 213\n",
      "Data columns (total 3 columns):\n",
      " #   Column    Non-Null Count  Dtype  \n",
      "---  ------    --------------  -----  \n",
      " 0   movie     214 non-null    object \n",
      " 1   year      214 non-null    int64  \n",
      " 2   fandango  214 non-null    float64\n",
      "dtypes: float64(1), int64(1), object(1)\n",
      "memory usage: 5.1+ KB\n"
     ]
    }
   ],
   "source": [
    "fandango_after.info()"
   ]
  },
  {
   "cell_type": "markdown",
   "metadata": {},
   "source": [
    "The goal of the analysis is to deteremine whether there has been a change in Fandango's movie rating system after the publication of that article. Therefore, the population of interest for this goal is made of all the movie ratings on Fandango's website regardless of the release year.\n",
    "\n",
    "The two data samples that we have have already been sampled, but before we proceed with anything, we need to make sure that the data samples are representative. Otherwise, the sampling error will be big and, therefore, we will reach eronate conclusions.\n",
    "\n",
    "The first [sample](https://github.com/fivethirtyeight/data/tree/master/fandango) data that was collected for the article, says that it was sampled like this:\n",
    "- the movie must have had at least 30 fan reviews on Fandango (at the moment when the data was pulled)\n",
    "- the movie must have had tickets on sale that year (2015)\n",
    "\n",
    "The sampling done is definetetly not a random one because any movie that was on Fandango's platform and did not meet any othe criteria above did not meet the conditions to be selected for the analysis. I am pretty sure that were good movies in that year that did not have any tickets on sale or had under 30 fan reviews that could have skewed the analysis. To conclude, the sample is very likely to not be representative to the study because it is subject to *temporal trends* i.e.: the movies in 2015 compared with movies in other years could be worse or better compared to other years.\n",
    "\n",
    "\n",
    "The other [sample](https://github.com/mircealex/Movie_ratings_2016_17):\n",
    "- the movie was released in 2016 or later\n",
    "- it mentions 'a significant amount of votes' but does not mention how many\n",
    "\n",
    "With this in mine, we can conclude that this sample is also not very representative to our study because it is also subject to temporal trends. \n",
    "\n",
    "Both these authors had certain research questions in mind when they sampled the data, and they used a set of criteria to get a sample that would fit their questions. Their sampling method is called **purposive sampling** (or judgmental/selective/subjective sampling). While these samples were good enough for their research, they don't seem too useful for the research we are about to do."
   ]
  },
  {
   "cell_type": "markdown",
   "metadata": {},
   "source": [
    "## Changing the goal of the analysis\n",
    "\n",
    "Given the data stated above, we would have to tweak the goal in order to continue the analysis and naturally place some limitations on it. It is close-to-imposssible to collect new sample data that is previous to the analysis made by Hickey.\n",
    "\n",
    "It can be observed that both platforms have almost the same selection of populat movies and compile ratings from different review sources (Rotten Tomatoes, Metacritic, iMDB). We will choose to focus on Fandango's ratings for popular movies in 2015 and popular movies in 2016. In this way, **we can see if they indeed decided to fix their rounding system bug.**\n",
    "\n",
    "This makes the new goal more suitable for the analysis."
   ]
  },
  {
   "cell_type": "markdown",
   "metadata": {},
   "source": [
    "## Isolating the samples we need \n",
    "\n",
    "With the new goal, we now have two populations that we want to describe and compare with each other:\n",
    "\n",
    "- All Fandango's ratings for popular movies released in 2015.\n",
    "- All Fandango's ratings for popular movies released in 2016.\n",
    "\n",
    "Before, we proceed we need to define what exactly \"popular\" means in this context. In this case, we will use the benchmark that a movie is popular if it has at least 30 fan reviews on Fandango.\n",
    "\n",
    "First, let's check if all the movies from the dataset from `fandango_ previous` have over 30 fan reviews"
   ]
  },
  {
   "cell_type": "code",
   "execution_count": 10,
   "metadata": {},
   "outputs": [
    {
     "data": {
      "text/plain": [
       "True"
      ]
     },
     "execution_count": 10,
     "metadata": {},
     "output_type": "execute_result"
    }
   ],
   "source": [
    "len(fandango_previous[fandango_previous['Fandango_votes']>=30]) == len(fandango_previous)"
   ]
  },
  {
   "cell_type": "markdown",
   "metadata": {},
   "source": [
    "Although one of the sampling criteria in our second sample is movie popularity, the sample doesn't provide information about the number of fan ratings. We should be skeptical once more and ask whether this sample is truly representative and contains popular movies (movies with over 30 fan ratings).\n",
    "\n",
    "One quick way to check the representativity of this sample is to sample randomly 10 movies from it and then check the number of fan ratings ourselves on Fandango's website. Ideally, at least 8 out of the 10 movies have 30 fan ratings or more."
   ]
  },
  {
   "cell_type": "code",
   "execution_count": 11,
   "metadata": {},
   "outputs": [
    {
     "data": {
      "text/html": [
       "<div><div id=39ae2be3-1aa9-4fb3-a956-3b2290dca7c9 style=\"display:none; background-color:#9D6CFF; color:white; width:200px; height:30px; padding-left:5px; border-radius:4px; flex-direction:row; justify-content:space-around; align-items:center;\" onmouseover=\"this.style.backgroundColor='#BA9BF8'\" onmouseout=\"this.style.backgroundColor='#9D6CFF'\" onclick=\"window.commands?.execute('create-mitosheet-from-dataframe-output');\">See Full Dataframe in Mito</div> <script> if (window.commands.hasCommand('create-mitosheet-from-dataframe-output')) document.getElementById('39ae2be3-1aa9-4fb3-a956-3b2290dca7c9').style.display = 'flex' </script> <table border=\"1\" class=\"dataframe\">\n",
       "  <thead>\n",
       "    <tr style=\"text-align: right;\">\n",
       "      <th></th>\n",
       "      <th>movie</th>\n",
       "      <th>year</th>\n",
       "      <th>fandango</th>\n",
       "    </tr>\n",
       "  </thead>\n",
       "  <tbody>\n",
       "    <tr>\n",
       "      <th>117</th>\n",
       "      <td>Morgan</td>\n",
       "      <td>2016</td>\n",
       "      <td>3.5</td>\n",
       "    </tr>\n",
       "    <tr>\n",
       "      <th>163</th>\n",
       "      <td>The Boss</td>\n",
       "      <td>2016</td>\n",
       "      <td>3.5</td>\n",
       "    </tr>\n",
       "    <tr>\n",
       "      <th>145</th>\n",
       "      <td>Skiptrace</td>\n",
       "      <td>2016</td>\n",
       "      <td>3.5</td>\n",
       "    </tr>\n",
       "    <tr>\n",
       "      <th>134</th>\n",
       "      <td>Pride and Prejudice and Zombies</td>\n",
       "      <td>2016</td>\n",
       "      <td>4.0</td>\n",
       "    </tr>\n",
       "    <tr>\n",
       "      <th>112</th>\n",
       "      <td>Misconduct</td>\n",
       "      <td>2016</td>\n",
       "      <td>3.0</td>\n",
       "    </tr>\n",
       "    <tr>\n",
       "      <th>74</th>\n",
       "      <td>I.T.</td>\n",
       "      <td>2016</td>\n",
       "      <td>3.5</td>\n",
       "    </tr>\n",
       "    <tr>\n",
       "      <th>126</th>\n",
       "      <td>Office Christmas Party</td>\n",
       "      <td>2016</td>\n",
       "      <td>3.5</td>\n",
       "    </tr>\n",
       "    <tr>\n",
       "      <th>65</th>\n",
       "      <td>Hacksaw Ridge</td>\n",
       "      <td>2016</td>\n",
       "      <td>4.5</td>\n",
       "    </tr>\n",
       "    <tr>\n",
       "      <th>181</th>\n",
       "      <td>The Infiltrator</td>\n",
       "      <td>2016</td>\n",
       "      <td>4.0</td>\n",
       "    </tr>\n",
       "    <tr>\n",
       "      <th>110</th>\n",
       "      <td>Mike and Dave Need Wedding Dates</td>\n",
       "      <td>2016</td>\n",
       "      <td>4.0</td>\n",
       "    </tr>\n",
       "  </tbody>\n",
       "</table></div>"
      ],
      "text/plain": [
       "                                movie  year  fandango\n",
       "117                            Morgan  2016       3.5\n",
       "163                          The Boss  2016       3.5\n",
       "145                         Skiptrace  2016       3.5\n",
       "134   Pride and Prejudice and Zombies  2016       4.0\n",
       "112                        Misconduct  2016       3.0\n",
       "74                               I.T.  2016       3.5\n",
       "126            Office Christmas Party  2016       3.5\n",
       "65                      Hacksaw Ridge  2016       4.5\n",
       "181                   The Infiltrator  2016       4.0\n",
       "110  Mike and Dave Need Wedding Dates  2016       4.0"
      ]
     },
     "execution_count": 11,
     "metadata": {},
     "output_type": "execute_result"
    }
   ],
   "source": [
    "fandango_after.sample(10, random_state= 100)"
   ]
  },
  {
   "cell_type": "markdown",
   "metadata": {},
   "source": [
    "NOTE!: At the moment of writing this project (March 2022), I did not find a way to verify the total number of user reviews for heach of the movies above. This might have been replaced with a new system where it shows only reviews of users that made a verified ticket purchase and rated the video 3.5 or higher.\n",
    "\n",
    "I will go on with the assumption that all the movies in the generated sample have over 30 fan reviews.\n",
    "\n",
    "I will proceed now to isolate the data in such ways that I will have separate dataframes for movies released in 2015 and 2016"
   ]
  },
  {
   "cell_type": "code",
   "execution_count": 12,
   "metadata": {},
   "outputs": [
    {
     "data": {
      "text/plain": [
       "0    Avengers: Age of Ultron (2015)\n",
       "1                 Cinderella (2015)\n",
       "2                    Ant-Man (2015)\n",
       "Name: FILM, dtype: object"
      ]
     },
     "execution_count": 12,
     "metadata": {},
     "output_type": "execute_result"
    }
   ],
   "source": [
    "fandango_previous['FILM'].head(3)"
   ]
  },
  {
   "cell_type": "code",
   "execution_count": 13,
   "metadata": {},
   "outputs": [
    {
     "data": {
      "text/plain": [
       "2015    129\n",
       "2014     17\n",
       "Name: year, dtype: int64"
      ]
     },
     "execution_count": 13,
     "metadata": {},
     "output_type": "execute_result"
    }
   ],
   "source": [
    "# extracting the year from the film name and creating a column with\n",
    "fandango_previous['year'] = fandango_previous['FILM'].str[-5:-1]\n",
    "\n",
    "#seeing how many movies were released in 2015\n",
    "fandango_previous['year'].value_counts()"
   ]
  },
  {
   "cell_type": "code",
   "execution_count": 14,
   "metadata": {},
   "outputs": [
    {
     "data": {
      "text/plain": [
       "2015    88.0\n",
       "2014    12.0\n",
       "Name: year, dtype: float64"
      ]
     },
     "execution_count": 14,
     "metadata": {},
     "output_type": "execute_result"
    }
   ],
   "source": [
    "# create a frequency distribution table\n",
    "round(fandango_previous['year'].value_counts(normalize= True) * 100)"
   ]
  },
  {
   "cell_type": "code",
   "execution_count": 15,
   "metadata": {},
   "outputs": [
    {
     "data": {
      "text/plain": [
       "2015    129\n",
       "Name: year, dtype: int64"
      ]
     },
     "execution_count": 15,
     "metadata": {},
     "output_type": "execute_result"
    }
   ],
   "source": [
    "fandango_2015 = fandango_previous[fandango_previous['year'] == '2015'].copy()\n",
    "fandango_2015['year'].value_counts()"
   ]
  },
  {
   "cell_type": "code",
   "execution_count": 16,
   "metadata": {},
   "outputs": [
    {
     "data": {
      "text/plain": [
       "2016    191\n",
       "2017     23\n",
       "Name: year, dtype: int64"
      ]
     },
     "execution_count": 16,
     "metadata": {},
     "output_type": "execute_result"
    }
   ],
   "source": [
    "fandango_after['year'].value_counts()"
   ]
  },
  {
   "cell_type": "code",
   "execution_count": 17,
   "metadata": {},
   "outputs": [
    {
     "data": {
      "text/plain": [
       "2016    89.0\n",
       "2017    11.0\n",
       "Name: year, dtype: float64"
      ]
     },
     "execution_count": 17,
     "metadata": {},
     "output_type": "execute_result"
    }
   ],
   "source": [
    "round(fandango_after['year'].value_counts(normalize=True)*100)"
   ]
  },
  {
   "cell_type": "code",
   "execution_count": 18,
   "metadata": {},
   "outputs": [
    {
     "data": {
      "text/plain": [
       "2016    191\n",
       "Name: year, dtype: int64"
      ]
     },
     "execution_count": 18,
     "metadata": {},
     "output_type": "execute_result"
    }
   ],
   "source": [
    "fandango_2016 = fandango_after[fandango_after['year'] == 2016].copy()\n",
    "fandango_2016['year'].value_counts()"
   ]
  },
  {
   "cell_type": "markdown",
   "metadata": {},
   "source": [
    "Now we know that we have the following:\n",
    "- `fandango_2015` with 129 movies\n",
    "- `fandango_2016` with 191 movies"
   ]
  },
  {
   "cell_type": "code",
   "execution_count": 19,
   "metadata": {},
   "outputs": [
    {
     "data": {
      "text/plain": [
       "2.7     1.550388\n",
       "2.8     1.550388\n",
       "2.9     3.100775\n",
       "3.0     3.100775\n",
       "3.1     2.325581\n",
       "3.2     3.100775\n",
       "3.3     3.100775\n",
       "3.4     5.426357\n",
       "3.5     4.651163\n",
       "3.6     6.201550\n",
       "3.7     6.201550\n",
       "3.8     3.100775\n",
       "3.9     9.302326\n",
       "4.0     5.426357\n",
       "4.1    10.077519\n",
       "4.2     8.527132\n",
       "4.3     6.976744\n",
       "4.4     5.426357\n",
       "4.5     6.976744\n",
       "4.6     1.550388\n",
       "4.8     2.325581\n",
       "Name: Fandango_Ratingvalue, dtype: float64"
      ]
     },
     "execution_count": 19,
     "metadata": {},
     "output_type": "execute_result"
    }
   ],
   "source": [
    "fandango_2015['Fandango_Ratingvalue'].value_counts(normalize=True).sort_index()*100"
   ]
  },
  {
   "cell_type": "code",
   "execution_count": 20,
   "metadata": {},
   "outputs": [
    {
     "data": {
      "text/plain": [
       "0      4.5\n",
       "1      4.5\n",
       "2      4.5\n",
       "3      4.5\n",
       "4      3.0\n",
       "      ... \n",
       "140    4.5\n",
       "141    4.0\n",
       "142    3.5\n",
       "144    3.5\n",
       "145    3.5\n",
       "Name: Fandango_Ratingvalue, Length: 129, dtype: float64"
      ]
     },
     "execution_count": 20,
     "metadata": {},
     "output_type": "execute_result"
    }
   ],
   "source": [
    "def custom_round(x, base= 0.5):\n",
    "    return base * round(float(x)/base)\n",
    "\n",
    "fandango_2015_actual_rating= fandango_2015['Fandango_Ratingvalue'].apply(lambda x: custom_round(x, base= 0.5))\n",
    "fandango_2015_actual_rating"
   ]
  },
  {
   "cell_type": "code",
   "execution_count": 21,
   "metadata": {},
   "outputs": [
    {
     "data": {
      "text/plain": [
       "3.0     8.527132\n",
       "3.5    17.829457\n",
       "4.0    28.682171\n",
       "4.5    37.984496\n",
       "5.0     6.976744\n",
       "Name: Fandango_Stars, dtype: float64"
      ]
     },
     "execution_count": 21,
     "metadata": {},
     "output_type": "execute_result"
    }
   ],
   "source": [
    "fandango_2015['Fandango_Stars'].value_counts(normalize=True).sort_index()*100"
   ]
  },
  {
   "cell_type": "markdown",
   "metadata": {},
   "source": [
    "## Comparing Distribution Shapes for 2015 and 2016\n",
    "\n"
   ]
  },
  {
   "cell_type": "code",
   "execution_count": 22,
   "metadata": {},
   "outputs": [
    {
     "data": {
      "image/png": "[encoded data removed]",
      "text/plain": [
       "<Figure size 756x432 with 1 Axes>"
      ]
     },
     "metadata": {},
     "output_type": "display_data"
    }
   ],
   "source": [
    "# Selecting the \"FiveThirtyEight\" style for plotting\n",
    "plt.style.use('fivethirtyeight')\n",
    "\n",
    "# Creating a list of colorblind-friendly colors\n",
    "colors = [[213/255,94/255,0],        # vermillion\n",
    "          [86/255,180/255,233/255],  # sky blue\n",
    "          [230/255,159/255,0],       # orange\n",
    "          [0,158/255,115/255],       # bluish green\n",
    "          [204/255,121/255,167/255], # reddish purple\n",
    "          [0,114/255,178/255]]       # blue\n",
    "\n",
    "# Defining a function for improving plot aesthetics and reproducing the FiveThirtyEight style\n",
    "def add_plot_aesthetics(ax, y_ticks, y_ticklabels, y_line,\n",
    "                        x_start, x_end,\n",
    "                        x_title, y_title, title,\n",
    "                        x_subtitle, y_subtitle, subtitle,\n",
    "                        x_signbar, y_signbar, signbar_text):\n",
    "    ax.tick_params(axis='both', labelsize=18)\n",
    "    ax.set_yticks(y_ticks)\n",
    "    ax.set_yticklabels(y_ticklabels)\n",
    "    ax.axhline(y_line, color='black', linewidth=1.3, alpha=0.7)\n",
    "    ax.set_xlim(x_start, x_end)\n",
    "    ax.text(x_title, y_title, s=title,\n",
    "            fontsize=26, weight='bold', alpha=0.75)\n",
    "    ax.text(x_subtitle, y_subtitle, s=subtitle,\n",
    "            fontsize=19, alpha=0.85)\n",
    "    ax.text(x_signbar, y_signbar, s=signbar_text,\n",
    "            fontsize=14, color='#f0f0f0', backgroundcolor='grey')\n",
    "    return ''\n",
    "\n",
    "#  Creating plots for comparing the movie rating distribution shapes for 2015 and 2016\n",
    "fig, ax = plt.subplots(figsize=(10.5,6))\n",
    "\n",
    "# Creating lists of dataframes, columns with Fandango's ratings, and years\n",
    "dfs = [fandango_2015, fandango_2016]\n",
    "columns = ['Fandango_Stars', 'fandango']\n",
    "labels = ['2015', '2016']\n",
    "\n",
    "for i in range(len(dfs)):\n",
    "    \n",
    "    # Creating a relative frequency table (in %) for given column sorted by rating\n",
    "    ratings = dfs[i][columns[i]].value_counts(normalize=True).sort_index()*100\n",
    "    \n",
    "    # Adding missing unique ratings from 0.5 to 5 (in our case – low ratings) and assigning 0 to their frequencies\n",
    "    ratings_arranged = pd.Series(ratings, index=np.arange(0.5,5.1,0.5).tolist()).fillna(0)\n",
    "    \n",
    "    # Plotting the resulting Series\n",
    "    ax = ratings_arranged.plot(label=labels[i], c=colors[i])\n",
    "    \n",
    "    # Adding plot aesthetics according to the FiveThirtyEight style\n",
    "    add_plot_aesthetics(ax=ax, y_ticks=(0, 10, 20, 30, 40),\n",
    "                        y_ticklabels=('0   ', '10   ', '20   ', '30   ', '40%'), y_line=0,\n",
    "                        x_start=0, x_end=5.1,\n",
    "                        x_title=-0.35, y_title=49.2,\n",
    "                        title='Fandango\\'s movie ratings: 2015 vs. 2016',\n",
    "                        x_subtitle=-0.35, y_subtitle=43,\n",
    "                        subtitle='Rating distributions for movies with 30+ reviews before and after\\\n",
    "                 \\nHickey\\'s analysis (129 and 191 movies correspondingly)',\n",
    "                        x_signbar=-0.5, y_signbar=-8,\n",
    "                        signbar_text=' ©DATAQUEST                                                                                                      SOURCE: FANDANGO.COM')\n",
    "   \n",
    "    # Adding annotations to the plots\n",
    "    ax.text(x=4.6, y=36,\n",
    "            s='2015',\n",
    "            color=colors[0],\n",
    "            weight='bold',\n",
    "            backgroundcolor='#f0f0f0')\n",
    "    ax.text(x=3.54, y=38,\n",
    "            s='2016',\n",
    "            color=colors[1],\n",
    "            weight='bold',\n",
    "            backgroundcolor='#f0f0f0')\n",
    "plt.show()\n"
   ]
  },
  {
   "cell_type": "markdown",
   "metadata": {},
   "source": [
    "By looking at the graph, we conclude the following:\n",
    "- Both lines are left skewed\n",
    "- The 2016 line has a tendency towards the left in comparison to 2015\n",
    "\n",
    "The slight left shift of the 2016 distribution is very interesting for our analysis. It shows that ratings were slightly lower in 2016 compared to 2015. This suggests that there was a difference indeed between Fandango's ratings for popular movies in 2015 and Fandango's ratings for popular movies in 2016. We can also see the direction of the difference: the ratings in 2016 were slightly lower compared to 2015."
   ]
  },
  {
   "cell_type": "markdown",
   "metadata": {},
   "source": [
    "## Fandango's actual ratings\n",
    "\n",
    "I will compile the actual rating of the Fandango system by trying to solve the bug myself"
   ]
  },
  {
   "cell_type": "code",
   "execution_count": 23,
   "metadata": {},
   "outputs": [
    {
     "data": {
      "image/png": "[encoded data removed]",
      "text/plain": [
       "<Figure size 756x432 with 1 Axes>"
      ]
     },
     "metadata": {},
     "output_type": "display_data"
    }
   ],
   "source": [
    "plt.style.use(\"fivethirtyeight\")\n",
    "\n",
    "fig, ax = plt.subplots(figsize=(10.5,6))\n",
    "\n",
    "presented_rating = fandango_2015['Fandango_Stars'].value_counts(normalize= True).sort_index()* 100\n",
    "actual_rating = fandango_2015_actual_rating.value_counts(normalize= True).sort_index() * 100\n",
    "\n",
    "presented_rating_arrange = pd.Series(presented_rating, index= np.arange(0.5, 5.1, 0.5).tolist()).fillna(0)\n",
    "actual_rating_arrange = pd.Series(actual_rating, index= np.arange(0.5,5.1,0.5).tolist()).fillna(0)\n",
    "\n",
    "ax = presented_rating_arrange.plot(label= 'Fandango presented rating', c= colors[0])\n",
    "ax = actual_rating_arrange.plot(label= 'Actual rating', c= 'dimgrey')\n",
    "\n",
    "ax.text(x=4.6, y=36,\n",
    "        s='Fandango presented rating',\n",
    "        color=colors[0],\n",
    "        weight='bold',\n",
    "        backgroundcolor='#f0f0f0')\n",
    "ax.text(x=3.54, y=38,\n",
    "        s='Actual rating',\n",
    "        color= 'dimgrey',\n",
    "        weight='bold',\n",
    "        backgroundcolor='#f0f0f0')\n",
    "\n",
    "ax.fill_between(presented_rating_arrange.index.tolist(), presented_rating_arrange.tolist(), alpha=0.2, color='red')\n",
    "ax.fill_between(actual_rating_arrange.index.tolist(), actual_rating_arrange.tolist(), alpha=0.2, color='grey')\n",
    "\n",
    "add_plot_aesthetics(ax=ax, y_ticks=(0, 10, 20, 30, 40),\n",
    "                y_ticklabels=('0   ', '10   ', '20   ', '30   ', '40%'), y_line=0,\n",
    "                x_start=0, x_end=5.1,\n",
    "                x_title=-0.35, y_title=49.2,\n",
    "                title='Fandango\\'s movie ratings are inflated by rounding',\n",
    "                x_subtitle=-0.35, y_subtitle=43,\n",
    "                subtitle='Rating distributions of 209 films that played in theaters in 2015 and received 30+ reviews)',\n",
    "                x_signbar=-0.5, y_signbar=-8,\n",
    "                signbar_text=' ©DATAQUEST')\n",
    "\n",
    "\n",
    "plt.show()"
   ]
  },
  {
   "cell_type": "markdown",
   "metadata": {},
   "source": [
    "## KL Divergence - Measuring the distance between the Gaussian distributions\n",
    "\n",
    "Using a KL divergence formula, I will measure the difference between the Gaussian distributions of Fandango plotted above."
   ]
  },
  {
   "cell_type": "code",
   "execution_count": 35,
   "metadata": {},
   "outputs": [
    {
     "name": "stdout",
     "output_type": "stream",
     "text": [
      "KL(P || Q): 0.207 nats\n",
      "KL(Q || P): 0.48 nats\n"
     ]
    }
   ],
   "source": [
    "from math import log\n",
    "from scipy.stats import norm\n",
    "\n",
    "def kl_divergence(p, q):\n",
    "    return np.sum(np.where(p != 0, p * np.log(p / q), 0))\n",
    "\n",
    "\n",
    "fandango_2015_ratings = fandango_2015['Fandango_Stars'].value_counts(normalize= True).sort_index()\n",
    "fandango_2015_ratings_aranged = pd.Series(fandango_2015_ratings, np.arange(0.5, 5.1, 0.5).tolist()).fillna(0.0000001)\n",
    "\n",
    "fandango_2016_ratings = fandango_2016['fandango'].value_counts(normalize=True).sort_index()\n",
    "fandango_2016_ratings_aranged = pd.Series(fandango_2016_ratings, np.arange(0.5, 5.1, 0.5).tolist()).fillna(0.00000001)\n",
    "\n",
    "# calculating P||Q\n",
    "kl_pq = kl_divergence(fandango_2015_ratings_aranged, fandango_2016_ratings_aranged)\n",
    "print('KL(P || Q): %.3f nats' %kl_pq)\n",
    "\n",
    "\n",
    "# Calculating Q||P with the modified function because the function above returns infinite. Is this even correct?\n",
    "\n",
    "kl_qp = kl_divergence(fandango_2016_ratings_aranged, fandango_2015_ratings_aranged)\n",
    "\n",
    "print('KL(Q || P): %.2f nats' %kl_qp)\n",
    "\n"
   ]
  },
  {
   "cell_type": "code",
   "execution_count": 36,
   "metadata": {},
   "outputs": [
    {
     "data": {
      "text/plain": [
       "0.47579957686665203"
      ]
     },
     "execution_count": 36,
     "metadata": {},
     "output_type": "execute_result"
    }
   ],
   "source": [
    "# calclating Q||P using the scipy module\n",
    "from scipy.special import rel_entr\n",
    "\n",
    "sum(rel_entr(fandango_2016_ratings_aranged, fandango_2015_ratings_aranged))"
   ]
  },
  {
   "cell_type": "code",
   "execution_count": 37,
   "metadata": {},
   "outputs": [],
   "source": [
    "# plt.style.use('fivethirtyeight')\n",
    "\n",
    "# fandango_2015['Fandango_Stars'].plot.kde(label='2015', legend=True, figsize=(8,6))\n",
    "# fandango_2016['fandango'].plot.kde(label='2016', legend= True)\n",
    "\n",
    "# plt.title(\"Comparing distribution shapes for Fandango movie ratings 2015 vs 2016\", y= 1.02)\n",
    "# plt.xlabel(\"Stars\")\n",
    "# plt.xlim(0,5)\n",
    "# plt.xticks(np.arange(0,5.1,0.5))\n",
    "\n",
    "# plt.show()"
   ]
  },
  {
   "cell_type": "markdown",
   "metadata": {},
   "source": [
    "## Comparing Relative Frequencies\n",
    "\n"
   ]
  },
  {
   "cell_type": "code",
   "execution_count": 38,
   "metadata": {},
   "outputs": [
    {
     "name": "stdout",
     "output_type": "stream",
     "text": [
      "2015\n",
      "----------------\n"
     ]
    },
    {
     "data": {
      "text/plain": [
       "5.0     6.976744\n",
       "4.5    37.984496\n",
       "4.0    28.682171\n",
       "3.5    17.829457\n",
       "3.0     8.527132\n",
       "Name: Fandango_Stars, dtype: float64"
      ]
     },
     "execution_count": 38,
     "metadata": {},
     "output_type": "execute_result"
    }
   ],
   "source": [
    "print('2015' + '\\n' + '-' * 16) # To help us distinguish between the two tables immediately and\n",
    "#                                 # avoid silly mistakes as we read to and from\n",
    "fandango_2015['Fandango_Stars'].value_counts(normalize= True).sort_index(ascending= False) * 100\n",
    "# print(tabulate(round(fandango_2015['Fandango_Stars'].value_counts(normalize = True)\n",
    "#                .sort_index(ascending=False) * 100).to_frame(),\n",
    "#               headers=['Rating', 'Frequency'],\n",
    "#               tablefmt= 'orgtbl'), 2*'\\n')"
   ]
  },
  {
   "cell_type": "code",
   "execution_count": 39,
   "metadata": {},
   "outputs": [
    {
     "name": "stdout",
     "output_type": "stream",
     "text": [
      "2016\n",
      "----------------\n"
     ]
    },
    {
     "data": {
      "text/plain": [
       "5.0     0.523560\n",
       "4.5    24.607330\n",
       "4.0    40.314136\n",
       "3.5    24.083770\n",
       "3.0     7.329843\n",
       "2.5     3.141361\n",
       "Name: fandango, dtype: float64"
      ]
     },
     "execution_count": 39,
     "metadata": {},
     "output_type": "execute_result"
    }
   ],
   "source": [
    "print('2016' + '\\n' + '-' * 16)\n",
    "fandango_2016['fandango'].value_counts(normalize = True).sort_index(ascending=False) * 100\n",
    "\n"
   ]
  },
  {
   "cell_type": "markdown",
   "metadata": {},
   "source": [
    "In 2016, the 4.5 and 5 stars ratings have significantly decreased in comparison to 2015. This can be seen that 5 stars movies in 2016 were under 1% vs almost 7% in 2015.\n",
    "\n",
    "Also, there is a new lower low rating in 2016 by adding the 2.5 rating which accounted to 3% of the movies.\n",
    "\n",
    "For some other ratings, the percentage went up in 2016. There was a greater percentage of movies in 2016 that received 3.5 and 4 stars, compared to 2015. 3.5 and 4.0 are high ratings and this challenges the direction of the change we saw on the kernel density plots."
   ]
  },
  {
   "cell_type": "markdown",
   "metadata": {},
   "source": [
    "## Determining the direction of the change\n",
    "\n",
    "We'll take a couple of summary statistics (remember the distinction between sample statistics and population parameters) to get a more precise picture about the direction of the difference. We'll take each distribution of movie ratings and compute its mean, median, and mode, and then compare these statistics to determine what they tell about the direction of the difference."
   ]
  },
  {
   "cell_type": "code",
   "execution_count": 40,
   "metadata": {},
   "outputs": [
    {
     "data": {
      "text/html": [
       "<div><div id=b39ccfc2-f474-4d96-bf55-9e03a23755ba style=\"display:none; background-color:#9D6CFF; color:white; width:200px; height:30px; padding-left:5px; border-radius:4px; flex-direction:row; justify-content:space-around; align-items:center;\" onmouseover=\"this.style.backgroundColor='#BA9BF8'\" onmouseout=\"this.style.backgroundColor='#9D6CFF'\" onclick=\"window.commands?.execute('create-mitosheet-from-dataframe-output');\">See Full Dataframe in Mito</div> <script> if (window.commands.hasCommand('create-mitosheet-from-dataframe-output')) document.getElementById('b39ccfc2-f474-4d96-bf55-9e03a23755ba').style.display = 'flex' </script> <table border=\"1\" class=\"dataframe\">\n",
       "  <thead>\n",
       "    <tr style=\"text-align: right;\">\n",
       "      <th></th>\n",
       "      <th>2015</th>\n",
       "      <th>2016</th>\n",
       "    </tr>\n",
       "  </thead>\n",
       "  <tbody>\n",
       "    <tr>\n",
       "      <th>Mean</th>\n",
       "      <td>4.085271</td>\n",
       "      <td>3.887435</td>\n",
       "    </tr>\n",
       "    <tr>\n",
       "      <th>Median</th>\n",
       "      <td>4.000000</td>\n",
       "      <td>4.000000</td>\n",
       "    </tr>\n",
       "    <tr>\n",
       "      <th>Mode</th>\n",
       "      <td>4.500000</td>\n",
       "      <td>4.000000</td>\n",
       "    </tr>\n",
       "  </tbody>\n",
       "</table></div>"
      ],
      "text/plain": [
       "            2015      2016\n",
       "Mean    4.085271  3.887435\n",
       "Median  4.000000  4.000000\n",
       "Mode    4.500000  4.000000"
      ]
     },
     "execution_count": 40,
     "metadata": {},
     "output_type": "execute_result"
    }
   ],
   "source": [
    "mean_2015 = fandango_2015['Fandango_Stars'].mean()\n",
    "mean_2016 = fandango_2016['fandango'].mean()\n",
    "\n",
    "median_2015 = fandango_2015['Fandango_Stars'].median()\n",
    "median_2016 = fandango_2016['fandango'].median()\n",
    "\n",
    "mode_2015 = fandango_2015['Fandango_Stars'].mode()[0] # the output of Series.mode() is a bit uncommon\n",
    "mode_2016 = fandango_2016['fandango'].mode()[0]\n",
    "\n",
    "summary = pd.DataFrame()\n",
    "summary['2015'] = [mean_2015, median_2015, mode_2015]\n",
    "summary['2016'] = [mean_2016, median_2016, mode_2016]\n",
    "summary.index = ['Mean', 'Median', 'Mode']\n",
    "summary\n",
    "\n"
   ]
  },
  {
   "cell_type": "code",
   "execution_count": 41,
   "metadata": {},
   "outputs": [
    {
     "name": "stdout",
     "output_type": "stream",
     "text": [
      "          Mean  Median  Mode\n",
      "2015  4.085271     4.0   4.5\n",
      "2016  3.887435     4.0   4.0\n"
     ]
    },
    {
     "data": {
      "image/png": "[encoded data removed]",
      "text/plain": [
       "<Figure size 756x432 with 1 Axes>"
      ]
     },
     "metadata": {},
     "output_type": "display_data"
    }
   ],
   "source": [
    "# using a for loop to automatically write the mean, meadian and mode\n",
    "\n",
    "rating_columns= [fandango_2015['Fandango_Stars'],\n",
    "                fandango_2016['fandango']]\n",
    "\n",
    "list_sum_stats = []\n",
    "for item in rating_columns:\n",
    "    lst= [item.mean(),\n",
    "         item.median(),\n",
    "         item.mode()[0]]\n",
    "    list_sum_stats.append(lst)\n",
    "    \n",
    "# Creating a dataframe from the list of summary statistics\n",
    "\n",
    "summary = pd.DataFrame(list_sum_stats, columns=['Mean', 'Median', 'Mode'], index=['2015', '2016'])\n",
    "\n",
    "print(summary)\n",
    "\n",
    "# Create s grouped bar plot for the summary statistics\n",
    "fig = plt.subplots(figsize=(10.5,6))\n",
    "\n",
    "ax= summary.loc['2015'].plot.bar(color=colors[2],\n",
    "                                align= 'center',\n",
    "                                label= '2015',\n",
    "                                width= 0.3)\n",
    "ax = summary.loc['2016'].plot.bar(color= colors[3],\n",
    "                                 align= 'edge',\n",
    "                                 label= '2016',\n",
    "                                 width= 0.3,\n",
    "                                 rot= 0)\n",
    "\n",
    "# Using the previous created function to add aesthetics to the graph\n",
    "\n",
    "add_plot_aesthetics(ax= ax, y_ticks= np.arange(0, 5.1, 0.5),\n",
    "                   y_ticklabels= np.arange(0, 5.1, 0.5).tolist(), y_line= 0.03,\n",
    "                   x_start= -0.3, x_end= 2.5,\n",
    "                   x_title= -0.3, y_title= 6,\n",
    "                   title= 'Comparing Fandango\\'s summary statistics: 2015 vs 2016',\n",
    "                   x_subtitle= -0.3, y_subtitle= 5.6,\n",
    "                   subtitle= 'Mean, median and mode comparison for both datasets',\n",
    "                   x_signbar= -0.3, y_signbar= -0.7,\n",
    "                   signbar_text= '©DATAQUEST')\n",
    "\n",
    "# Adding case specific plot aesthetics\n",
    "ax.set_ylim(0, 5.5)\n",
    "ax.legend(frameon= 0.0, loc='upper center', fontsize= 15)\n",
    "\n",
    "plt.show()"
   ]
  },
  {
   "cell_type": "code",
   "execution_count": null,
   "metadata": {},
   "outputs": [],
   "source": [
    "# plt.style.use('fivethirtyeight')\n",
    "# summary['2015'].plot.bar(color = '#0066FF', align = 'center', label = '2015', width = .25)\n",
    "# summary['2016'].plot.bar(color = '#CC0000', align = 'edge', label = '2016', width = .25,\n",
    "#                          rot = 0, figsize = (8,5))\n",
    "\n",
    "# plt.title('Comparing summary statistics: 2015 vs 2016', y = 1.07)\n",
    "# plt.ylim(0,5.5)\n",
    "# plt.yticks(np.arange(0,5ndang.1,.5))\n",
    "# plt.ylabel('Stars')\n",
    "# plt.legend(framealpha = 0, loc = 'upper center')\n",
    "# plt.show()"
   ]
  },
  {
   "cell_type": "code",
   "execution_count": null,
   "metadata": {},
   "outputs": [],
   "source": [
    "(summary['Mean'][0] - summary['Mean'][1]) / summary['Mean'][0]"
   ]
  },
  {
   "cell_type": "markdown",
   "metadata": {},
   "source": [
    "While the median is the same for both distributions, the mode is lower in 2016 by 0.5. Coupled with what we saw for the mean, the direction of the change we saw on the kernel density plot is confirmed: on average, popular movies released in 2016 were rated slightly lower than popular movies released in 2015."
   ]
  },
  {
   "cell_type": "markdown",
   "metadata": {},
   "source": [
    "## Comparing Different Movie Aggregators\n",
    "\n",
    "In order to understand the overall, it is important to compare Fandango with the other movie aggregators after the changes have been made. In this way, we will see how different is Fandango from the other aggregators aftter the changes have been made.\n",
    "\n",
    "Also, let's we can check to see movie aggregator is more reliable.\n",
    "\n",
    "We will showcase the data from both years separately. In each of the case, we will use the ratings **normalized to Fandango's rating style (5-point scale)** and rounded to the **nearest** half-star, to caveat for Fandango's bug."
   ]
  },
  {
   "cell_type": "code",
   "execution_count": null,
   "metadata": {},
   "outputs": [],
   "source": [
    "# Defining a function for plotting different aggregator distrubutions\n",
    "\n",
    "def plot_aggregator_distributions(df, columns, n_plots, column_fandango,\n",
    "                                 year, n_films,\n",
    "                                 x_annotations, y_annotations,\n",
    "                                 n_arrows, x_arrow, y_arrow, dx_arrow, dy_arrow):\n",
    "    fig, ax = plt.subplots(figsize=(10.5,6))\n",
    "    labels = ['Fandango', 'IMDB', 'Rotten \\nTomatoes', 'Rotten \\nTomatoes \\n- users', \n",
    "              'Metacritic', 'Metacritic \\n- users']\n",
    "    \n",
    "    for i in range(n_plots):\n",
    "        # Create a relating frequency table (%) for given column sorted by rating\n",
    "        ratings= df[columns[i]].value_counts(normalize= True).sort_index() * 100\n",
    "        \n",
    "        # Plotting the resulting Series\n",
    "        ax = ratings.plot(linewidth= 2.5, c= colors[i])\n",
    "        \n",
    "        # Filling the area under the plots with colors,\n",
    "        if columns[i] == column_fandango:\n",
    "            ax.fill_between(ratings.index.tolist(), ratings.tolist(), alpha=0.2, color='red')\n",
    "        ax.fill_between(ratings.index.tolist(), ratings.tolist(), alpha=0.2, color='grey')\n",
    "        \n",
    "        # Adding annotations to each graph\n",
    "        ax.text(x= x_annotations[i], y= y_annotations[i],\n",
    "               s= labels[i], color= colors[i],\n",
    "               weight='bold', backgroundcolor= '#f0f0f0')\n",
    "        \n",
    "    # Adding plot aesthetics\n",
    "    add_plot_aesthetics(ax, y_ticks=(0, 10, 20, 30, 40),\n",
    "                       y_ticklabels= ('0   ', '10   ', '20   ', '30   ', '40% '), y_line= 0,\n",
    "                       x_start= -0.02, x_end= 5.02,\n",
    "                       x_title= -0.36, y_title= 49.2,\n",
    "                       title= f'Fandango vs. other rating aggregators in {year}',\n",
    "                       x_subtitle= -0.36, y_subtitle= 43,\n",
    "                       subtitle= f'Nornalized rating distributions of {n_films} receveid 30+ fan reviews on \\nFandango.com\"',\n",
    "                        x_signbar= -0.5, y_signbar= -8,\n",
    "                        signbar_text= ' ©DATAQUEST\\\n",
    "                                        SOURCE: FANDANGO.COM, IMDB, METACRITIC, ROTTEN TOMATOES')\n",
    "    \n",
    "    # Adding pointers to the overlapped graphs\n",
    "    for j in range(n_arrows):\n",
    "        ax.arrow(x= x_arrow[j], y= y_arrow[j],\n",
    "                dx= dx_arrow[j], dy= dy_arrow[j],\n",
    "                width= 0.005, fc= 'k', ec= 'k')\n",
    "    \n",
    "    plt.show()\n",
    "    return ''\n",
    "\n",
    "# Plotting different aggregator distributions for 2015\n",
    "\n",
    "plot_aggregator_distributions(df=fandango_score_comparison,\n",
    "                              columns=['Fandango_Stars', 'IMDB_norm_round', 'RT_norm_round',\n",
    "                                       'RT_user_norm_round', 'Metacritic_norm_round',\n",
    "                                       'Metacritic_user_norm_round'],\n",
    "                              n_plots=6, column_fandango='Fandango_Stars',\n",
    "                              year=2015, n_films = 129,\n",
    "                              x_annotations=[4.2, 3, 0.5, 2.1, 1.15, 2.34],\n",
    "                              y_annotations=[39.5, 38.5, 12.3, 18.6, 16.5, 27.15],\n",
    "                              n_arrows=2, x_arrow=[3,2.3], y_arrow=[29.7,18],\n",
    "                              dx_arrow=[0.3,0], dy_arrow=[-4,-5])\n",
    "\n",
    "\n",
    "# Plotting different aggregator distrubutions for 2016\n",
    "plot_aggregator_distributions(df=fandango_movie_ratings,\n",
    "                              columns=['fandango', 'nr_imdb', 'nr_tmeter', 'nr_audience',\n",
    "                                       'nr_metascore'],\n",
    "                              n_plots=5, column_fandango='fandango',\n",
    "                              year=2016, n_films = 191,\n",
    "                              x_annotations=[4.15, 3, 0.1, 1, 1.9],\n",
    "                              y_annotations=[38.7, 38.5, 10, 16, 20],\n",
    "                              n_arrows=1, x_arrow=[1.5], y_arrow=[15],\n",
    "                              dx_arrow=[0.3], dy_arrow=[-3])\n",
    "plt.show()\n",
    "        \n",
    "    "
   ]
  },
  {
   "cell_type": "markdown",
   "metadata": {},
   "source": [
    "The graphs show us that Fandango's score are still significantly different compared to the other movie aggergators even after presumably solving the bug. In 2016, Fandango's distribution shifted a bit to the left, becoming less skewed and introducing a new rating, the **2.5**\\*. Even so, in comparison to the other aggregators, it is very unrealistic for Fandango to have higher ratings and therefore, deeming it an unreliable source for movie ratings.\n",
    "*It is to be reminded that Fandango is also selling tickets to movie on their website.*\n",
    "\n",
    "By looking at the graph, it can be concluded that Metacritic is a more reliable source of movie ratings given the fact that it's shape resembles a *normal distribution* better than the other ones (**??**)"
   ]
  },
  {
   "cell_type": "markdown",
   "metadata": {},
   "source": [
    "## Summary aggregators"
   ]
  },
  {
   "cell_type": "code",
   "execution_count": null,
   "metadata": {},
   "outputs": [],
   "source": [
    "def plot_aggregator_stats (df, columns, labels, year):\n",
    "    list_sum_stat = []\n",
    "    rating_columns = []\n",
    "    for i in range(len(columns)):\n",
    "        rating_columns.append(df[columns[i]])\n",
    "        lst = [labels[i],\n",
    "               round(rating_columns[i].mean(),2),\n",
    "               rating_columns[i].median(),\n",
    "               rating_columns[i].mode().loc[0]]\n",
    "        list_sum_stat.append(lst)\n",
    "    \n",
    "    # Create a dataframe from the list with the summary statistics\n",
    "    df_sum_stat = pd.DataFrame(list_sum_stat, columns= ['Aggregator', 'Mean', 'Median', 'Mode'])\n",
    "    \n",
    "    # Printing the summary statistics as a table\n",
    "    print(df_sum_stat.value_counts(normalize= True).sort_index()*100)\n",
    "    print('\\n')\n",
    "    \n",
    "    # Melting the dataframe for futher plotting\n",
    "    melted = pd.melt(df_sum_stat, id_vars=['Aggregator'], value_vars=['Mean', 'Median', 'Mode'])\n",
    "   # print(melted)\n",
    "    \n",
    "    # Creating the plot\n",
    "    fig, ax= plt.subplots(figsize=(10.5, 6))\n",
    "    ax= sns.stripplot(x= 'variable', y= 'value', hue= 'Aggregator',\n",
    "                     s= 15, alpha= 0.7, data= melted)\n",
    "    \n",
    "    # Adding plot aesthethics\n",
    "    add_plot_aesthetics(ax, y_ticks= np.arange(0, 5.1, 0.5), y_ticklabels= np.arange(0, 5.1, 0.5).tolist(),\n",
    "                       y_line= 2.51,\n",
    "                       x_start= -0.332, x_end= 2.4,\n",
    "                       x_title= -0.332, y_title= 4.87,\n",
    "                       title= f'Summary statistics for all aggreators in {year}',\n",
    "                       x_subtitle= -0.332, y_subtitle= 4.7,\n",
    "                       subtitle= 'Mean, median and more comparison',\n",
    "                       x_signbar= 0.5, y_signbar= 1.84,\n",
    "                       signbar_text= '  ©DATAQUEST\\\n",
    "                                       SOURCE: FANDANGO.COM, IMDB, METACRITIC, ROTTEN TOMATOES')\n",
    "    \n",
    "    ax.xaxis.label.set_visible(False)\n",
    "    ax.yaxis.label.set_visible(False)\n",
    "    ax.set_ylim(2.5, 4.6)\n",
    "    ax.legend(fontsize= 14, bbox_to_anchor= (0.876, -0.08), ncol= 3)\n",
    "    \n",
    "    plt.show()\n",
    "    return ''\n",
    "\n",
    "# Plotting the summary statistics for different aggregators in 2015\n",
    "plot_aggregator_stats(df= fandango_score_comparison,\n",
    "                     columns= ['Fandango_Stars', 'IMDB_norm_round', 'RT_norm_round', 'RT_user_norm_round', \n",
    "                               'Metacritic_norm_round', 'Metacritic_user_norm_round'],\n",
    "                     labels= ['Fandango', 'IMDB', 'Rotten Tomatoes', 'Rotten Tomatoes - users', 'Metacritic',\n",
    "                             'Metacritic - users'],\n",
    "                     year= 2015)\n",
    "    \n",
    "# Plotting the summary stats for different aggregators in 2016\n",
    "plot_aggregator_stats(df= fandango_movie_ratings,\n",
    "                     columns= ['fandango', 'nr_imdb', 'nr_tmeter', 'nr_audience', 'nr_metascore'],\n",
    "                      labels= ['Fandango', 'IMDB', 'Rotten Tomatoes', 'Rotten Tomatoes - users', 'Metacritic'],\n",
    "                      year= 2016)\n",
    "\n",
    "plt.show()"
   ]
  },
  {
   "cell_type": "markdown",
   "metadata": {},
   "source": [
    "This brings more evident that Fandango still has higher stats than other aggregators both in 2015 and 2016 with the exception of Rotten Tomatoes where it had a higher mode"
   ]
  },
  {
   "cell_type": "markdown",
   "metadata": {},
   "source": [
    "## Conclusion\n",
    "\n",
    "Our analysis showed that there's indeed a slight difference between Fandango's ratings for popular movies in 2015 and Fandango's ratings for popular movies in 2016. We also determined that, on average, popular movies released in 2016 were rated lower on Fandango than popular movies released in 2015.\n",
    "\n",
    "We cannot be completely sure what caused the change, but the chances are very high that it was caused by Fandango fixing the biased rating system after Hickey's analysis."
   ]
  }
 ],
 "metadata": {
  "kernelspec": {
   "display_name": "Python 3 (ipykernel)",
   "language": "python",
   "name": "python3"
  },
  "language_info": {
   "codemirror_mode": {
    "name": "ipython",
    "version": 3
   },
   "file_extension": ".py",
   "mimetype": "text/x-python",
   "name": "python",
   "nbconvert_exporter": "python",
   "pygments_lexer": "ipython3",
   "version": "3.8.11"
  }
 },
 "nbformat": 4,
 "nbformat_minor": 2
}
