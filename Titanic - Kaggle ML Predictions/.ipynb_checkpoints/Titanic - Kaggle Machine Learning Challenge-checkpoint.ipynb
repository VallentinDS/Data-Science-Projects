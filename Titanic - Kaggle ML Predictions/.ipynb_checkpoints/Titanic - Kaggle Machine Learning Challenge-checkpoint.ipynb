{
 "cells": [
  {
   "cell_type": "markdown",
   "id": "a6929319",
   "metadata": {},
   "source": [
    "# Titanic Kaggle Machine Learning Challenge\n",
    "\n",
    "I am attempting the challenge to try my first ML algorithm "
   ]
  },
  {
   "cell_type": "markdown",
   "id": "11190372",
   "metadata": {},
   "source": [
    "## Data Dictionary\n",
    "\n",
    "\n",
    "| Variable | Definiton                                  | Key                                            |   |   |\n",
    "|----------|--------------------------------------------|------------------------------------------------|---|---|\n",
    "| survival | Survival                                   | 0 = No, 1 = Yes                                |   |   |\n",
    "| pclass   | Ticket class                               | 1 = 1st, 2 = 2nd, 3 = 3rd                      |   |   |\n",
    "| sex      | Sex                                        |                                                |   |   |\n",
    "| Age      | Age in years                               |                                                |   |   |\n",
    "| sibsp    | # of siblings / spouses aboard the Titanic |                                                |   |   |\n",
    "| parch    | # of parents / children aboard the Titanic |                                                |   |   |\n",
    "| ticket   | Ticket number                              |                                                |   |   |\n",
    "| fare     | Passenger fare                             |                                                |   |   |\n",
    "| cabin    | Cabin number                               |                                                |   |   |\n",
    "| embarked | Port of Embarkation                        | C = Cherbourg, Q = Queenstown, S = Southampton |   |   |\n",
    "\n",
    "\n",
    "## Variable notes\n",
    "\n",
    "**pclass**: A proxy for socio-economic status (SES)\n",
    "1st = Upper\n",
    "2nd = Middle\n",
    "3rd = Lower\n",
    "\n",
    "**age**: Age is fractional if less than 1. If the age is estimated, is it in the form of xx.5\n",
    "\n",
    "**sibsp**: The dataset defines family relations in this way...\n",
    "Sibling = brother, sister, stepbrother, stepsister\n",
    "Spouse = husband, wife (mistresses and fiancés were ignored)\n",
    "\n",
    "**parch**: The dataset defines family relations in this way...\n",
    "Parent = mother, father\n",
    "Child = daughter, son, stepdaughter, stepson\n",
    "Some children travelled only with a nanny, therefore parch=0 for them."
   ]
  },
  {
   "cell_type": "markdown",
   "id": "88f66d30",
   "metadata": {},
   "source": [
    "## Loading the dataset"
   ]
  },
  {
   "cell_type": "code",
   "execution_count": 166,
   "id": "1063dc13",
   "metadata": {},
   "outputs": [],
   "source": [
    "# loading the libraries\n",
    "import pandas as pd\n",
    "import numpy as np\n",
    "import seaborn as sns\n",
    "import matplotlib.pyplot as plt"
   ]
  },
  {
   "cell_type": "code",
   "execution_count": 206,
   "id": "89295473",
   "metadata": {},
   "outputs": [
    {
     "data": {
      "text/html": [
       "<div><div id=df5917b4-1fce-4f9c-a3ca-e1aaa0ea7bc2 style=\"display:none; background-color:#9D6CFF; color:white; width:200px; height:30px; padding-left:5px; border-radius:4px; flex-direction:row; justify-content:space-around; align-items:center;\" onmouseover=\"this.style.backgroundColor='#BA9BF8'\" onmouseout=\"this.style.backgroundColor='#9D6CFF'\" onclick=\"window.commands?.execute('create-mitosheet-from-dataframe-output');\">See Full Dataframe in Mito</div> <script> if (window.commands.hasCommand('create-mitosheet-from-dataframe-output')) document.getElementById('df5917b4-1fce-4f9c-a3ca-e1aaa0ea7bc2').style.display = 'flex' </script> <table border=\"1\" class=\"dataframe\">\n",
       "  <thead>\n",
       "    <tr style=\"text-align: right;\">\n",
       "      <th></th>\n",
       "      <th>PassengerId</th>\n",
       "      <th>Survived</th>\n",
       "      <th>Pclass</th>\n",
       "      <th>Name</th>\n",
       "      <th>Sex</th>\n",
       "      <th>Age</th>\n",
       "      <th>SibSp</th>\n",
       "      <th>Parch</th>\n",
       "      <th>Ticket</th>\n",
       "      <th>Fare</th>\n",
       "      <th>Cabin</th>\n",
       "      <th>Embarked</th>\n",
       "    </tr>\n",
       "  </thead>\n",
       "  <tbody>\n",
       "    <tr>\n",
       "      <th>0</th>\n",
       "      <td>1</td>\n",
       "      <td>0</td>\n",
       "      <td>3</td>\n",
       "      <td>Braund, Mr. Owen Harris</td>\n",
       "      <td>male</td>\n",
       "      <td>22.0</td>\n",
       "      <td>1</td>\n",
       "      <td>0</td>\n",
       "      <td>A/5 21171</td>\n",
       "      <td>7.2500</td>\n",
       "      <td>NaN</td>\n",
       "      <td>S</td>\n",
       "    </tr>\n",
       "    <tr>\n",
       "      <th>1</th>\n",
       "      <td>2</td>\n",
       "      <td>1</td>\n",
       "      <td>1</td>\n",
       "      <td>Cumings, Mrs. John Bradley (Florence Briggs Thayer)</td>\n",
       "      <td>female</td>\n",
       "      <td>38.0</td>\n",
       "      <td>1</td>\n",
       "      <td>0</td>\n",
       "      <td>PC 17599</td>\n",
       "      <td>71.2833</td>\n",
       "      <td>C85</td>\n",
       "      <td>C</td>\n",
       "    </tr>\n",
       "    <tr>\n",
       "      <th>2</th>\n",
       "      <td>3</td>\n",
       "      <td>1</td>\n",
       "      <td>3</td>\n",
       "      <td>Heikkinen, Miss. Laina</td>\n",
       "      <td>female</td>\n",
       "      <td>26.0</td>\n",
       "      <td>0</td>\n",
       "      <td>0</td>\n",
       "      <td>STON/O2. 3101282</td>\n",
       "      <td>7.9250</td>\n",
       "      <td>NaN</td>\n",
       "      <td>S</td>\n",
       "    </tr>\n",
       "  </tbody>\n",
       "</table></div>"
      ],
      "text/plain": [
       "   PassengerId  Survived  Pclass  \\\n",
       "0            1         0       3   \n",
       "1            2         1       1   \n",
       "2            3         1       3   \n",
       "\n",
       "                                                Name     Sex   Age  SibSp  \\\n",
       "0                            Braund, Mr. Owen Harris    male  22.0      1   \n",
       "1  Cumings, Mrs. John Bradley (Florence Briggs Th...  female  38.0      1   \n",
       "2                             Heikkinen, Miss. Laina  female  26.0      0   \n",
       "\n",
       "   Parch            Ticket     Fare Cabin Embarked  \n",
       "0      0         A/5 21171   7.2500   NaN        S  \n",
       "1      0          PC 17599  71.2833   C85        C  \n",
       "2      0  STON/O2. 3101282   7.9250   NaN        S  "
      ]
     },
     "execution_count": 206,
     "metadata": {},
     "output_type": "execute_result"
    }
   ],
   "source": [
    "train_data = pd.read_csv('titanic/train.csv')\n",
    "test_data = pd.read_csv('titanic/test.csv')\n",
    "gender_data = pd.read_csv('titanic/gender_submission.csv')\n",
    "\n",
    "train.head(3)"
   ]
  },
  {
   "cell_type": "code",
   "execution_count": 199,
   "id": "2b63eec2",
   "metadata": {},
   "outputs": [
    {
     "data": {
      "text/html": [
       "<div><div id=0444fd8e-ffc7-475d-b33f-1902ad56ebcf style=\"display:none; background-color:#9D6CFF; color:white; width:200px; height:30px; padding-left:5px; border-radius:4px; flex-direction:row; justify-content:space-around; align-items:center;\" onmouseover=\"this.style.backgroundColor='#BA9BF8'\" onmouseout=\"this.style.backgroundColor='#9D6CFF'\" onclick=\"window.commands?.execute('create-mitosheet-from-dataframe-output');\">See Full Dataframe in Mito</div> <script> if (window.commands.hasCommand('create-mitosheet-from-dataframe-output')) document.getElementById('0444fd8e-ffc7-475d-b33f-1902ad56ebcf').style.display = 'flex' </script> <table border=\"1\" class=\"dataframe\">\n",
       "  <thead>\n",
       "    <tr style=\"text-align: right;\">\n",
       "      <th></th>\n",
       "      <th>PassengerId</th>\n",
       "      <th>Survived</th>\n",
       "    </tr>\n",
       "  </thead>\n",
       "  <tbody>\n",
       "    <tr>\n",
       "      <th>0</th>\n",
       "      <td>892</td>\n",
       "      <td>0</td>\n",
       "    </tr>\n",
       "    <tr>\n",
       "      <th>1</th>\n",
       "      <td>893</td>\n",
       "      <td>1</td>\n",
       "    </tr>\n",
       "    <tr>\n",
       "      <th>2</th>\n",
       "      <td>894</td>\n",
       "      <td>0</td>\n",
       "    </tr>\n",
       "  </tbody>\n",
       "</table></div>"
      ],
      "text/plain": [
       "   PassengerId  Survived\n",
       "0          892         0\n",
       "1          893         1\n",
       "2          894         0"
      ]
     },
     "execution_count": 199,
     "metadata": {},
     "output_type": "execute_result"
    }
   ],
   "source": [
    "gender_data.head(3)"
   ]
  },
  {
   "cell_type": "code",
   "execution_count": 200,
   "id": "7cfc3bc1",
   "metadata": {},
   "outputs": [
    {
     "name": "stdout",
     "output_type": "stream",
     "text": [
      "<class 'pandas.core.frame.DataFrame'>\n",
      "RangeIndex: 418 entries, 0 to 417\n",
      "Data columns (total 2 columns):\n",
      " #   Column       Non-Null Count  Dtype\n",
      "---  ------       --------------  -----\n",
      " 0   PassengerId  418 non-null    int64\n",
      " 1   Survived     418 non-null    int64\n",
      "dtypes: int64(2)\n",
      "memory usage: 6.7 KB\n"
     ]
    }
   ],
   "source": [
    "gender_data.info()"
   ]
  },
  {
   "cell_type": "markdown",
   "id": "c76af3bd",
   "metadata": {},
   "source": [
    "It can be observed that the datasets have common columns and `test` dataset seems to be a continuation of the `train` dataset. Therefore, I will concatinate them"
   ]
  },
  {
   "cell_type": "code",
   "execution_count": 224,
   "id": "a31ad079",
   "metadata": {},
   "outputs": [
    {
     "data": {
      "image/png": "[encoded data removed]",
      "text/plain": [
       "<Figure size 432x288 with 1 Axes>"
      ]
     },
     "metadata": {},
     "output_type": "display_data"
    }
   ],
   "source": [
    "ax = sns.barplot(x='Survived', y=train_data['Survived'].value_counts(normalize=True)*100, data= all_data)\n",
    "ax.set(ylabel= '% of passengers')\n",
    "plt.show()"
   ]
  },
  {
   "cell_type": "code",
   "execution_count": 225,
   "id": "51105e46",
   "metadata": {},
   "outputs": [
    {
     "data": {
      "image/png": "[encoded data removed]",
      "text/plain": [
       "<Figure size 432x288 with 1 Axes>"
      ]
     },
     "metadata": {},
     "output_type": "display_data"
    }
   ],
   "source": [
    "intervals= pd.interval_range(start=0, end=80, freq= 10)\n",
    "grouped_freq_table_10 = train_data['Age'].value_counts(bins= intervals, normalize= True).sort_index() * 100\n",
    "ax = grouped_freq_table_10.plot.bar(xlabel= 'Age Group',\n",
    "                                    ylabel= '% of passanger', rot=45,\n",
    "                                    title= 'The % of passangers per age group')"
   ]
  },
  {
   "cell_type": "code",
   "execution_count": 202,
   "id": "752d0323",
   "metadata": {},
   "outputs": [
    {
     "data": {
      "text/plain": [
       "female    68.128655\n",
       "male      31.871345\n",
       "Name: Sex, dtype: float64"
      ]
     },
     "execution_count": 202,
     "metadata": {},
     "output_type": "execute_result"
    }
   ],
   "source": [
    "s1 = train_data[train_data['Survived'] == 1]['Sex'].value_counts(normalize=True).sort_index()*100\n",
    "s1"
   ]
  },
  {
   "cell_type": "code",
   "execution_count": 207,
   "id": "6a003ef7",
   "metadata": {},
   "outputs": [
    {
     "data": {
      "text/plain": [
       "female    14.754098\n",
       "male      85.245902\n",
       "Name: Sex, dtype: float64"
      ]
     },
     "execution_count": 207,
     "metadata": {},
     "output_type": "execute_result"
    }
   ],
   "source": [
    "s0 = train_data[train_data['Survived'] == 0]['Sex'].value_counts(normalize=True).sort_index()*100\n",
    "s0"
   ]
  },
  {
   "cell_type": "code",
   "execution_count": 219,
   "id": "2dde5d77",
   "metadata": {},
   "outputs": [
    {
     "data": {
      "image/png": "[encoded data removed]",
      "text/plain": [
       "<Figure size 720x432 with 1 Axes>"
      ]
     },
     "metadata": {},
     "output_type": "display_data"
    }
   ],
   "source": [
    "labels = ['Female', 'Male']\n",
    "\n",
    "width= 0.3 #width of the bars\n",
    "x = np.arange(len(labels))\n",
    "\n",
    "fig, ax= plt.subplots(figsize=(10, 6))\n",
    "\n",
    "died = ax.bar(x - width/2, s0, width,\n",
    "                label='Died')\n",
    "survived = ax.bar(x + width/2, s1, width,\n",
    "                label= 'Female')\n",
    "\n",
    "ax.set_ylabel('% of Passangers')\n",
    "ax.set_title('% of Titanic Passangers that survived or died')\n",
    "ax.set_xticks(x)\n",
    "ax.set_xticklabels(labels)\n",
    "ax.legend()\n",
    "\n",
    "# fig.tight_layout()\n",
    "plt.show()"
   ]
  },
  {
   "cell_type": "markdown",
   "id": "c069d0ae",
   "metadata": {},
   "source": [
    "Male category comprises 85% of the passengers that died, whereas the Female category comprises 68% of the passengers that survived.\n",
    "\n",
    "I will compile "
   ]
  },
  {
   "cell_type": "code",
   "execution_count": 227,
   "id": "e91ee26f",
   "metadata": {},
   "outputs": [
    {
     "data": {
      "image/png": "[encoded data removed]",
      "text/plain": [
       "<Figure size 1152x576 with 2 Axes>"
      ]
     },
     "metadata": {},
     "output_type": "display_data"
    }
   ],
   "source": [
    "fig, axes = plt.subplots(nrows=1, ncols= 2, figsize=(16,8))\n",
    "\n",
    "#separaring the sexes in different dataframes\n",
    "women = train_data[train_data['Sex'] == 'female']\n",
    "men = train_data[train_data['Sex'] == 'male']\n",
    "\n",
    "#plotting the graph for women\n",
    "ax= sns.distplot(a= women[women['Survived']==1].Age.dropna(), bins= 10, label= 'Survived', ax= axes[0], kde= False, color='green')\n",
    "ax= sns.distplot(a= women[women['Survived']==0].Age.dropna(), bins= 10, label= 'Not Survived', ax= axes[0], kde= False, color= 'red')\n",
    "ax.set_title('Female')\n",
    "ax.legend()\n",
    "\n",
    "# plotting the graph for men\n",
    "ax = sns.distplot(a= men[men['Survived']==1].Age.dropna(), bins= 10, label= 'Survived', ax= axes[1], kde= False, color='green')\n",
    "ax = sns.distplot(a= men[men['Survived']==0].Age.dropna(), bins= 10, label= 'Not Survived', ax= axes[1], kde= False, color= 'red')\n",
    "ax.legend()\n",
    "_ = ax.set_title('Male')\n"
   ]
  },
  {
   "cell_type": "code",
   "execution_count": null,
   "id": "8a93b71a",
   "metadata": {},
   "outputs": [],
   "source": []
  }
 ],
 "metadata": {
  "kernelspec": {
   "display_name": "Python 3 (ipykernel)",
   "language": "python",
   "name": "python3"
  },
  "language_info": {
   "codemirror_mode": {
    "name": "ipython",
    "version": 3
   },
   "file_extension": ".py",
   "mimetype": "text/x-python",
   "name": "python",
   "nbconvert_exporter": "python",
   "pygments_lexer": "ipython3",
   "version": "3.8.11"
  }
 },
 "nbformat": 4,
 "nbformat_minor": 5
}
